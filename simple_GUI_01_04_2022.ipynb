{
  "cells": [
    {
      "cell_type": "code",
      "execution_count": null,
      "metadata": {
        "colab": {
          "base_uri": "https://localhost:8080/"
        },
        "id": "Cw1iquzRCaR6",
        "outputId": "29378c76-4f7b-4607-9e4d-a07caf48e5f0"
      },
      "outputs": [
        {
          "output_type": "stream",
          "name": "stdout",
          "text": [
            "values\n",
            "1st option\n",
            "2nd option\n"
          ]
        }
      ],
      "source": [
        "#@title string fields \n",
        "text = \"values\" #@param {type:\"string\"}\n",
        "dropdown = \"1st option\"  #@param [\"1st option\", \"2nd option\", \"3rd option\"]\n",
        "text_and_dropdown = \"2nd option\" #@param [\"1st option\", \"2nd option\", \"3rd option\"]\n",
        "\n",
        "print(text)\n",
        "print(dropdown)\n",
        "print(text_and_dropdown)"
      ]
    },
    {
      "cell_type": "code",
      "execution_count": null,
      "metadata": {
        "id": "Lp1aMGTrFYW_",
        "colab": {
          "base_uri": "https://localhost:8080/"
        },
        "outputId": "b61725ad-2584-44f5-f2d2-b7811f441053"
      },
      "outputs": [
        {
          "output_type": "stream",
          "name": "stdout",
          "text": [
            "mkdir: cannot create directory ‘p1’: File exists\n"
          ]
        }
      ],
      "source": [
        "#creating directory \n",
        "!mkdir p1\n",
        "import os\n",
        "os.mkdir(\"python1\")"
      ]
    },
    {
      "cell_type": "code",
      "execution_count": null,
      "metadata": {
        "colab": {
          "base_uri": "https://localhost:8080/"
        },
        "id": "3hy0q1dqGn-c",
        "outputId": "25ee4e81-c498-4f84-a87c-6973d7dd7325"
      },
      "outputs": [
        {
          "output_type": "stream",
          "name": "stdout",
          "text": [
            "/content\n"
          ]
        }
      ],
      "source": [
        "!pwd"
      ]
    },
    {
      "cell_type": "code",
      "execution_count": null,
      "metadata": {
        "id": "XB0F3LMNHvqX"
      },
      "outputs": [],
      "source": [
        "#creating one more directory\n",
        "import os\n",
        "os.mkdir(\"data\")"
      ]
    },
    {
      "cell_type": "code",
      "execution_count": null,
      "metadata": {
        "id": "AVKDVIqXIJz0"
      },
      "outputs": [],
      "source": [
        "#renaming the directory\n",
        "os.rename(\"data\",\"ds\")"
      ]
    },
    {
      "cell_type": "code",
      "execution_count": null,
      "metadata": {
        "id": "N8sYJWgMKXvG"
      },
      "outputs": [],
      "source": [
        "#removing the directory\n",
        "os.rmdir(\"ds\")"
      ]
    },
    {
      "cell_type": "code",
      "execution_count": null,
      "metadata": {
        "id": "4UjlzUR_Va3v"
      },
      "outputs": [],
      "source": [
        "#opening a file\n",
        "#\n",
        "file1 = open(\"/content/python1/Apr-1-2022-doc.doc\",\"w\")\n",
        "file1.write(\"RANGANADH NARAYANAM\")\n",
        "file1.close()"
      ]
    },
    {
      "cell_type": "code",
      "execution_count": null,
      "metadata": {
        "colab": {
          "base_uri": "https://localhost:8080/"
        },
        "id": "5spaUhU2Xtb-",
        "outputId": "a779a2ab-08ab-4ad9-cbc3-ffe27f82e730"
      },
      "outputs": [
        {
          "output_type": "execute_result",
          "data": {
            "text/plain": [
              "19"
            ]
          },
          "metadata": {},
          "execution_count": 9
        }
      ],
      "source": [
        "file1 = open(\"/content/python1/Apr-1-2022-doc.doc\",\"a\")\n",
        "file1.write(\"I AM MS IN UTSA USA\")"
      ]
    },
    {
      "cell_type": "code",
      "execution_count": null,
      "metadata": {
        "colab": {
          "base_uri": "https://localhost:8080/"
        },
        "id": "ZAR0-LNyfKkD",
        "outputId": "26096718-706b-4e60-fabe-c3eb14ad8e2d"
      },
      "outputs": [
        {
          "output_type": "stream",
          "name": "stdout",
          "text": [
            "first line\n",
            "second line\n",
            "third line\n"
          ]
        }
      ],
      "source": [
        "file1 = open(\"/content/python1/Apr-1-2022-doc.doc\",\"w\")\n",
        "text = [\"first line\\n\", \"second line\\n\", \"third line\"] #to pass multiple inputs to write\n",
        "file1.writelines(text)\n",
        "\n",
        "#open file for reading\n",
        "file1 = open(\"/content/python1/Apr-1-2022-doc.doc\",\"r\")\n",
        "print(file1.read())\n",
        "file1.close()\n"
      ]
    },
    {
      "cell_type": "code",
      "execution_count": null,
      "metadata": {
        "colab": {
          "base_uri": "https://localhost:8080/"
        },
        "id": "ebBG2XZob36E",
        "outputId": "f49e5c61-5b9f-40a9-c747-f595420813dc"
      },
      "outputs": [
        {
          "output_type": "stream",
          "name": "stdout",
          "text": [
            "0\n",
            "2nd option\n",
            "1st option\n"
          ]
        }
      ],
      "source": [
        "#@title string fields \n",
        "\n",
        "text = 0 #@param {type:\"integer\"} \n",
        "dropdown = \"2nd option\" #@param [\"1st option\", \"2nd option\", \"3rd option\"]\n",
        "text_and_dropdown = \"1st option\" #@param [\"1st option\",\"2nd option\", \"3rd option\"]\n",
        "\n",
        "print(text)\n",
        "print(dropdown)\n",
        "print(text_and_dropdown)\n",
        "\n"
      ]
    },
    {
      "cell_type": "code",
      "execution_count": null,
      "metadata": {
        "id": "cIggAAljgLtq"
      },
      "outputs": [],
      "source": [
        ""
      ]
    },
    {
      "cell_type": "code",
      "execution_count": null,
      "metadata": {
        "id": "a3kjWqMFiCHh"
      },
      "outputs": [],
      "source": [
        "#@title Form\n",
        "\n",
        "Name = 'Name' #@param {type:'string'}\n",
        "Apartment = 0 #@param {type:'integer'}\n",
        "Street = 'Street' #@param {type: 'string'}\n",
        "District = 'District' #@param {type:'string'}\n",
        "Country = 'Country' #@param {type: 'string'}\n",
        "Mobile =  54655654635#@param {type:'integer'}\n",
        "Gender='Gender' #@param ['Gender', 'Female', 'Male', 'Other', 'Prefer not to mention']\n",
        "MS = 'Marital Status' #@param ['Marital Status', 'Unmared', 'Married']\n",
        "\n",
        "\n",
        "with open('form.txt', r'a') as file:\n",
        "  file.write('Name, Appartment No., Street, District, Country, Mobile No., Gender, Marital Status')\n",
        "  file.write('\\n')\n",
        "  file.write('{}, {}, {}, {}, {}, {}, {}, {}'.format(Name, Apartment, Street, District, Country, Mobile, Gender, MS))\n",
        "  file.write('\\n')"
      ]
    },
    {
      "cell_type": "code",
      "execution_count": null,
      "metadata": {
        "id": "UHOQlLFsiV9s"
      },
      "outputs": [],
      "source": [
        "#file = open(\"form1.txt\", r\"a\") #automatically creates a txt file \"form1.txt\""
      ]
    },
    {
      "cell_type": "code",
      "execution_count": null,
      "metadata": {
        "colab": {
          "base_uri": "https://localhost:8080/",
          "height": 259
        },
        "id": "wh0llsq1ituk",
        "outputId": "5a65f1d2-82ab-4d2d-c88a-ddcbac850754"
      },
      "outputs": [
        {
          "output_type": "error",
          "ename": "ParserError",
          "evalue": "ignored",
          "traceback": [
            "\u001b[0;31m---------------------------------------------------------------------------\u001b[0m",
            "\u001b[0;31mParserError\u001b[0m                               Traceback (most recent call last)",
            "\u001b[0;32m<ipython-input-15-1ae21637bec0>\u001b[0m in \u001b[0;36m<module>\u001b[0;34m()\u001b[0m\n\u001b[1;32m      1\u001b[0m \u001b[0;32mimport\u001b[0m \u001b[0mpandas\u001b[0m \u001b[0;32mas\u001b[0m \u001b[0mpd\u001b[0m\u001b[0;34m\u001b[0m\u001b[0;34m\u001b[0m\u001b[0m\n\u001b[0;32m----> 2\u001b[0;31m \u001b[0mdf\u001b[0m \u001b[0;34m=\u001b[0m \u001b[0mpd\u001b[0m\u001b[0;34m.\u001b[0m\u001b[0mread_csv\u001b[0m\u001b[0;34m(\u001b[0m\u001b[0;34m\"/content/form.txt\"\u001b[0m\u001b[0;34m)\u001b[0m\u001b[0;34m\u001b[0m\u001b[0;34m\u001b[0m\u001b[0m\n\u001b[0m\u001b[1;32m      3\u001b[0m \u001b[0mdf\u001b[0m\u001b[0;34m\u001b[0m\u001b[0;34m\u001b[0m\u001b[0m\n",
            "\u001b[0;32m/usr/local/lib/python3.7/dist-packages/pandas/util/_decorators.py\u001b[0m in \u001b[0;36mwrapper\u001b[0;34m(*args, **kwargs)\u001b[0m\n\u001b[1;32m    309\u001b[0m                     \u001b[0mstacklevel\u001b[0m\u001b[0;34m=\u001b[0m\u001b[0mstacklevel\u001b[0m\u001b[0;34m,\u001b[0m\u001b[0;34m\u001b[0m\u001b[0;34m\u001b[0m\u001b[0m\n\u001b[1;32m    310\u001b[0m                 )\n\u001b[0;32m--> 311\u001b[0;31m             \u001b[0;32mreturn\u001b[0m \u001b[0mfunc\u001b[0m\u001b[0;34m(\u001b[0m\u001b[0;34m*\u001b[0m\u001b[0margs\u001b[0m\u001b[0;34m,\u001b[0m \u001b[0;34m**\u001b[0m\u001b[0mkwargs\u001b[0m\u001b[0;34m)\u001b[0m\u001b[0;34m\u001b[0m\u001b[0;34m\u001b[0m\u001b[0m\n\u001b[0m\u001b[1;32m    312\u001b[0m \u001b[0;34m\u001b[0m\u001b[0m\n\u001b[1;32m    313\u001b[0m         \u001b[0;32mreturn\u001b[0m \u001b[0mwrapper\u001b[0m\u001b[0;34m\u001b[0m\u001b[0;34m\u001b[0m\u001b[0m\n",
            "\u001b[0;32m/usr/local/lib/python3.7/dist-packages/pandas/io/parsers/readers.py\u001b[0m in \u001b[0;36mread_csv\u001b[0;34m(filepath_or_buffer, sep, delimiter, header, names, index_col, usecols, squeeze, prefix, mangle_dupe_cols, dtype, engine, converters, true_values, false_values, skipinitialspace, skiprows, skipfooter, nrows, na_values, keep_default_na, na_filter, verbose, skip_blank_lines, parse_dates, infer_datetime_format, keep_date_col, date_parser, dayfirst, cache_dates, iterator, chunksize, compression, thousands, decimal, lineterminator, quotechar, quoting, doublequote, escapechar, comment, encoding, encoding_errors, dialect, error_bad_lines, warn_bad_lines, on_bad_lines, delim_whitespace, low_memory, memory_map, float_precision, storage_options)\u001b[0m\n\u001b[1;32m    584\u001b[0m     \u001b[0mkwds\u001b[0m\u001b[0;34m.\u001b[0m\u001b[0mupdate\u001b[0m\u001b[0;34m(\u001b[0m\u001b[0mkwds_defaults\u001b[0m\u001b[0;34m)\u001b[0m\u001b[0;34m\u001b[0m\u001b[0;34m\u001b[0m\u001b[0m\n\u001b[1;32m    585\u001b[0m \u001b[0;34m\u001b[0m\u001b[0m\n\u001b[0;32m--> 586\u001b[0;31m     \u001b[0;32mreturn\u001b[0m \u001b[0m_read\u001b[0m\u001b[0;34m(\u001b[0m\u001b[0mfilepath_or_buffer\u001b[0m\u001b[0;34m,\u001b[0m \u001b[0mkwds\u001b[0m\u001b[0;34m)\u001b[0m\u001b[0;34m\u001b[0m\u001b[0;34m\u001b[0m\u001b[0m\n\u001b[0m\u001b[1;32m    587\u001b[0m \u001b[0;34m\u001b[0m\u001b[0m\n\u001b[1;32m    588\u001b[0m \u001b[0;34m\u001b[0m\u001b[0m\n",
            "\u001b[0;32m/usr/local/lib/python3.7/dist-packages/pandas/io/parsers/readers.py\u001b[0m in \u001b[0;36m_read\u001b[0;34m(filepath_or_buffer, kwds)\u001b[0m\n\u001b[1;32m    486\u001b[0m \u001b[0;34m\u001b[0m\u001b[0m\n\u001b[1;32m    487\u001b[0m     \u001b[0;32mwith\u001b[0m \u001b[0mparser\u001b[0m\u001b[0;34m:\u001b[0m\u001b[0;34m\u001b[0m\u001b[0;34m\u001b[0m\u001b[0m\n\u001b[0;32m--> 488\u001b[0;31m         \u001b[0;32mreturn\u001b[0m \u001b[0mparser\u001b[0m\u001b[0;34m.\u001b[0m\u001b[0mread\u001b[0m\u001b[0;34m(\u001b[0m\u001b[0mnrows\u001b[0m\u001b[0;34m)\u001b[0m\u001b[0;34m\u001b[0m\u001b[0;34m\u001b[0m\u001b[0m\n\u001b[0m\u001b[1;32m    489\u001b[0m \u001b[0;34m\u001b[0m\u001b[0m\n\u001b[1;32m    490\u001b[0m \u001b[0;34m\u001b[0m\u001b[0m\n",
            "\u001b[0;32m/usr/local/lib/python3.7/dist-packages/pandas/io/parsers/readers.py\u001b[0m in \u001b[0;36mread\u001b[0;34m(self, nrows)\u001b[0m\n\u001b[1;32m   1045\u001b[0m     \u001b[0;32mdef\u001b[0m \u001b[0mread\u001b[0m\u001b[0;34m(\u001b[0m\u001b[0mself\u001b[0m\u001b[0;34m,\u001b[0m \u001b[0mnrows\u001b[0m\u001b[0;34m=\u001b[0m\u001b[0;32mNone\u001b[0m\u001b[0;34m)\u001b[0m\u001b[0;34m:\u001b[0m\u001b[0;34m\u001b[0m\u001b[0;34m\u001b[0m\u001b[0m\n\u001b[1;32m   1046\u001b[0m         \u001b[0mnrows\u001b[0m \u001b[0;34m=\u001b[0m \u001b[0mvalidate_integer\u001b[0m\u001b[0;34m(\u001b[0m\u001b[0;34m\"nrows\"\u001b[0m\u001b[0;34m,\u001b[0m \u001b[0mnrows\u001b[0m\u001b[0;34m)\u001b[0m\u001b[0;34m\u001b[0m\u001b[0;34m\u001b[0m\u001b[0m\n\u001b[0;32m-> 1047\u001b[0;31m         \u001b[0mindex\u001b[0m\u001b[0;34m,\u001b[0m \u001b[0mcolumns\u001b[0m\u001b[0;34m,\u001b[0m \u001b[0mcol_dict\u001b[0m \u001b[0;34m=\u001b[0m \u001b[0mself\u001b[0m\u001b[0;34m.\u001b[0m\u001b[0m_engine\u001b[0m\u001b[0;34m.\u001b[0m\u001b[0mread\u001b[0m\u001b[0;34m(\u001b[0m\u001b[0mnrows\u001b[0m\u001b[0;34m)\u001b[0m\u001b[0;34m\u001b[0m\u001b[0;34m\u001b[0m\u001b[0m\n\u001b[0m\u001b[1;32m   1048\u001b[0m \u001b[0;34m\u001b[0m\u001b[0m\n\u001b[1;32m   1049\u001b[0m         \u001b[0;32mif\u001b[0m \u001b[0mindex\u001b[0m \u001b[0;32mis\u001b[0m \u001b[0;32mNone\u001b[0m\u001b[0;34m:\u001b[0m\u001b[0;34m\u001b[0m\u001b[0;34m\u001b[0m\u001b[0m\n",
            "\u001b[0;32m/usr/local/lib/python3.7/dist-packages/pandas/io/parsers/c_parser_wrapper.py\u001b[0m in \u001b[0;36mread\u001b[0;34m(self, nrows)\u001b[0m\n\u001b[1;32m    222\u001b[0m         \u001b[0;32mtry\u001b[0m\u001b[0;34m:\u001b[0m\u001b[0;34m\u001b[0m\u001b[0;34m\u001b[0m\u001b[0m\n\u001b[1;32m    223\u001b[0m             \u001b[0;32mif\u001b[0m \u001b[0mself\u001b[0m\u001b[0;34m.\u001b[0m\u001b[0mlow_memory\u001b[0m\u001b[0;34m:\u001b[0m\u001b[0;34m\u001b[0m\u001b[0;34m\u001b[0m\u001b[0m\n\u001b[0;32m--> 224\u001b[0;31m                 \u001b[0mchunks\u001b[0m \u001b[0;34m=\u001b[0m \u001b[0mself\u001b[0m\u001b[0;34m.\u001b[0m\u001b[0m_reader\u001b[0m\u001b[0;34m.\u001b[0m\u001b[0mread_low_memory\u001b[0m\u001b[0;34m(\u001b[0m\u001b[0mnrows\u001b[0m\u001b[0;34m)\u001b[0m\u001b[0;34m\u001b[0m\u001b[0;34m\u001b[0m\u001b[0m\n\u001b[0m\u001b[1;32m    225\u001b[0m                 \u001b[0;31m# destructive to chunks\u001b[0m\u001b[0;34m\u001b[0m\u001b[0;34m\u001b[0m\u001b[0;34m\u001b[0m\u001b[0m\n\u001b[1;32m    226\u001b[0m                 \u001b[0mdata\u001b[0m \u001b[0;34m=\u001b[0m \u001b[0m_concatenate_chunks\u001b[0m\u001b[0;34m(\u001b[0m\u001b[0mchunks\u001b[0m\u001b[0;34m)\u001b[0m\u001b[0;34m\u001b[0m\u001b[0;34m\u001b[0m\u001b[0m\n",
            "\u001b[0;32m/usr/local/lib/python3.7/dist-packages/pandas/_libs/parsers.pyx\u001b[0m in \u001b[0;36mpandas._libs.parsers.TextReader.read_low_memory\u001b[0;34m()\u001b[0m\n",
            "\u001b[0;32m/usr/local/lib/python3.7/dist-packages/pandas/_libs/parsers.pyx\u001b[0m in \u001b[0;36mpandas._libs.parsers.TextReader._read_rows\u001b[0;34m()\u001b[0m\n",
            "\u001b[0;32m/usr/local/lib/python3.7/dist-packages/pandas/_libs/parsers.pyx\u001b[0m in \u001b[0;36mpandas._libs.parsers.TextReader._tokenize_rows\u001b[0;34m()\u001b[0m\n",
            "\u001b[0;32m/usr/local/lib/python3.7/dist-packages/pandas/_libs/parsers.pyx\u001b[0m in \u001b[0;36mpandas._libs.parsers.raise_parser_error\u001b[0;34m()\u001b[0m\n",
            "\u001b[0;31mParserError\u001b[0m: Error tokenizing data. C error: Expected 8 fields in line 3, saw 12\n"
          ]
        }
      ],
      "source": [
        "import pandas as pd\n",
        "df = pd.read_csv(\"/content/form.txt\")\n",
        "df"
      ]
    },
    {
      "cell_type": "code",
      "execution_count": null,
      "metadata": {
        "colab": {
          "base_uri": "https://localhost:8080/"
        },
        "id": "tAQiWThisvcZ",
        "outputId": "779869d5-8b1b-4c7a-cf99-d2613d6d556f"
      },
      "outputs": [
        {
          "output_type": "stream",
          "name": "stdout",
          "text": [
            "Name, Appartment No., Street, District, Country, Mobile No., Gender, Marital Status\n",
            "Name, 0, Street, District, Country, 54655654635, Gender, Marital Status\n",
            "{'Name': ['nethaji'], 'Gender': ['Male'], 'Mobile': [9876543210], 'Address': ['India'], 'Marital_Status': ['Single']}Name, Appartment No., Street, District, Country, Mobile No., Gender, Marital Status\n",
            "Name, 0, Street, District, Country, 54655654635, Gender, Marital Status\n",
            "\n"
          ]
        }
      ],
      "source": [
        "with open(\"/content/form.txt\") as f:\n",
        "  read=f.read()\n",
        "print(read)\n",
        "\n",
        "\n",
        "#for x in read:\n",
        "#  print(x)\n",
        "\n"
      ]
    },
    {
      "cell_type": "code",
      "execution_count": null,
      "metadata": {
        "colab": {
          "base_uri": "https://localhost:8080/"
        },
        "id": "WRmnDw-oDuB1",
        "outputId": "6e8d7958-7570-47b8-9b36-9be7c5e44607"
      },
      "outputs": [
        {
          "output_type": "stream",
          "name": "stdout",
          "text": [
            "Name, Appartment No., Street, District, Country, Mobile No., Gender, Marital Status\n",
            "\n"
          ]
        }
      ],
      "source": [
        "lines = []\n",
        "with open(\"/content/form.txt\") as f:\n",
        "    lines = f.readlines()\n",
        "print(lines[0])"
      ]
    },
    {
      "cell_type": "code",
      "execution_count": null,
      "metadata": {
        "colab": {
          "base_uri": "https://localhost:8080/"
        },
        "id": "-vVIo8w4O_zE",
        "outputId": "a03a5a46-a277-4713-ebaa-adf52f9cb4b2"
      },
      "outputs": [
        {
          "output_type": "stream",
          "name": "stdout",
          "text": [
            "2016-03-09\n"
          ]
        }
      ],
      "source": [
        "#@title Date fields\n",
        "date_input = '2016-03-09' #@param {type:\"date\"}\n",
        "\n",
        "print(date_input)"
      ]
    },
    {
      "cell_type": "code",
      "execution_count": null,
      "metadata": {
        "colab": {
          "base_uri": "https://localhost:8080/"
        },
        "id": "-sqVd5HUPm_1",
        "outputId": "ffac105b-353f-4279-b838-acc03289474c"
      },
      "outputs": [
        {
          "output_type": "stream",
          "name": "stdout",
          "text": [
            "{'Name': ['nethaji'], 'Gender': ['Male'], 'Mobile': [9876543210], 'Address': ['India'], 'Marital_Status': ['Single']}\n"
          ]
        }
      ],
      "source": [
        "#@title Swiss Bank\n",
        "\n",
        "Name = 'nethaji' #@param {type: 'string'}\n",
        "Gender = \"Male\" #@param ['Select', 'Male', 'Female', 'Other']\n",
        "Mobile =  9876543210#@param {type: 'integer'}\n",
        "Address = 'India' #@param {type: 'string'}\n",
        "Marital_Status = 'Single' #@param ['Select', 'Single', 'Married']\n",
        "\n",
        "output = {'Name': [Name], 'Gender': [Gender], 'Mobile': [Mobile], 'Address': [Address], 'Marital_Status': [Marital_Status]}\n",
        "print(output)\n",
        "\n",
        "with open('form.txt', r'a') as file:\n",
        "  file.write(str(output))"
      ]
    },
    {
      "cell_type": "code",
      "execution_count": null,
      "metadata": {
        "colab": {
          "base_uri": "https://localhost:8080/",
          "height": 81
        },
        "id": "EGhEQcchS4nl",
        "outputId": "0f98d350-2e86-4d8c-bcbb-60cfadd5e3ee"
      },
      "outputs": [
        {
          "output_type": "execute_result",
          "data": {
            "text/plain": [
              "      Name Gender      Mobile Address Marital_Status\n",
              "0  nethaji   Male  9876543210   India         Single"
            ],
            "text/html": [
              "\n",
              "  <div id=\"df-e800a474-15cf-4944-a4da-7b376b860916\">\n",
              "    <div class=\"colab-df-container\">\n",
              "      <div>\n",
              "<style scoped>\n",
              "    .dataframe tbody tr th:only-of-type {\n",
              "        vertical-align: middle;\n",
              "    }\n",
              "\n",
              "    .dataframe tbody tr th {\n",
              "        vertical-align: top;\n",
              "    }\n",
              "\n",
              "    .dataframe thead th {\n",
              "        text-align: right;\n",
              "    }\n",
              "</style>\n",
              "<table border=\"1\" class=\"dataframe\">\n",
              "  <thead>\n",
              "    <tr style=\"text-align: right;\">\n",
              "      <th></th>\n",
              "      <th>Name</th>\n",
              "      <th>Gender</th>\n",
              "      <th>Mobile</th>\n",
              "      <th>Address</th>\n",
              "      <th>Marital_Status</th>\n",
              "    </tr>\n",
              "  </thead>\n",
              "  <tbody>\n",
              "    <tr>\n",
              "      <th>0</th>\n",
              "      <td>nethaji</td>\n",
              "      <td>Male</td>\n",
              "      <td>9876543210</td>\n",
              "      <td>India</td>\n",
              "      <td>Single</td>\n",
              "    </tr>\n",
              "  </tbody>\n",
              "</table>\n",
              "</div>\n",
              "      <button class=\"colab-df-convert\" onclick=\"convertToInteractive('df-e800a474-15cf-4944-a4da-7b376b860916')\"\n",
              "              title=\"Convert this dataframe to an interactive table.\"\n",
              "              style=\"display:none;\">\n",
              "        \n",
              "  <svg xmlns=\"http://www.w3.org/2000/svg\" height=\"24px\"viewBox=\"0 0 24 24\"\n",
              "       width=\"24px\">\n",
              "    <path d=\"M0 0h24v24H0V0z\" fill=\"none\"/>\n",
              "    <path d=\"M18.56 5.44l.94 2.06.94-2.06 2.06-.94-2.06-.94-.94-2.06-.94 2.06-2.06.94zm-11 1L8.5 8.5l.94-2.06 2.06-.94-2.06-.94L8.5 2.5l-.94 2.06-2.06.94zm10 10l.94 2.06.94-2.06 2.06-.94-2.06-.94-.94-2.06-.94 2.06-2.06.94z\"/><path d=\"M17.41 7.96l-1.37-1.37c-.4-.4-.92-.59-1.43-.59-.52 0-1.04.2-1.43.59L10.3 9.45l-7.72 7.72c-.78.78-.78 2.05 0 2.83L4 21.41c.39.39.9.59 1.41.59.51 0 1.02-.2 1.41-.59l7.78-7.78 2.81-2.81c.8-.78.8-2.07 0-2.86zM5.41 20L4 18.59l7.72-7.72 1.47 1.35L5.41 20z\"/>\n",
              "  </svg>\n",
              "      </button>\n",
              "      \n",
              "  <style>\n",
              "    .colab-df-container {\n",
              "      display:flex;\n",
              "      flex-wrap:wrap;\n",
              "      gap: 12px;\n",
              "    }\n",
              "\n",
              "    .colab-df-convert {\n",
              "      background-color: #E8F0FE;\n",
              "      border: none;\n",
              "      border-radius: 50%;\n",
              "      cursor: pointer;\n",
              "      display: none;\n",
              "      fill: #1967D2;\n",
              "      height: 32px;\n",
              "      padding: 0 0 0 0;\n",
              "      width: 32px;\n",
              "    }\n",
              "\n",
              "    .colab-df-convert:hover {\n",
              "      background-color: #E2EBFA;\n",
              "      box-shadow: 0px 1px 2px rgba(60, 64, 67, 0.3), 0px 1px 3px 1px rgba(60, 64, 67, 0.15);\n",
              "      fill: #174EA6;\n",
              "    }\n",
              "\n",
              "    [theme=dark] .colab-df-convert {\n",
              "      background-color: #3B4455;\n",
              "      fill: #D2E3FC;\n",
              "    }\n",
              "\n",
              "    [theme=dark] .colab-df-convert:hover {\n",
              "      background-color: #434B5C;\n",
              "      box-shadow: 0px 1px 3px 1px rgba(0, 0, 0, 0.15);\n",
              "      filter: drop-shadow(0px 1px 2px rgba(0, 0, 0, 0.3));\n",
              "      fill: #FFFFFF;\n",
              "    }\n",
              "  </style>\n",
              "\n",
              "      <script>\n",
              "        const buttonEl =\n",
              "          document.querySelector('#df-e800a474-15cf-4944-a4da-7b376b860916 button.colab-df-convert');\n",
              "        buttonEl.style.display =\n",
              "          google.colab.kernel.accessAllowed ? 'block' : 'none';\n",
              "\n",
              "        async function convertToInteractive(key) {\n",
              "          const element = document.querySelector('#df-e800a474-15cf-4944-a4da-7b376b860916');\n",
              "          const dataTable =\n",
              "            await google.colab.kernel.invokeFunction('convertToInteractive',\n",
              "                                                     [key], {});\n",
              "          if (!dataTable) return;\n",
              "\n",
              "          const docLinkHtml = 'Like what you see? Visit the ' +\n",
              "            '<a target=\"_blank\" href=https://colab.research.google.com/notebooks/data_table.ipynb>data table notebook</a>'\n",
              "            + ' to learn more about interactive tables.';\n",
              "          element.innerHTML = '';\n",
              "          dataTable['output_type'] = 'display_data';\n",
              "          await google.colab.output.renderOutput(dataTable, element);\n",
              "          const docLink = document.createElement('div');\n",
              "          docLink.innerHTML = docLinkHtml;\n",
              "          element.appendChild(docLink);\n",
              "        }\n",
              "      </script>\n",
              "    </div>\n",
              "  </div>\n",
              "  "
            ]
          },
          "metadata": {},
          "execution_count": 20
        }
      ],
      "source": [
        "import pandas as pd\n",
        "df = pd.DataFrame(output)\n",
        "df.head()"
      ]
    },
    {
      "cell_type": "code",
      "execution_count": null,
      "metadata": {
        "id": "BcJCWI6-Tzlx"
      },
      "outputs": [],
      "source": [
        "df.to_csv(\"new.csv\")\n"
      ]
    },
    {
      "cell_type": "code",
      "execution_count": null,
      "metadata": {
        "colab": {
          "base_uri": "https://localhost:8080/"
        },
        "id": "eJfatkPpdvmE",
        "outputId": "ece2d45d-8bac-41ce-c042-ede9c2e9f7fd"
      },
      "outputs": [
        {
          "output_type": "execute_result",
          "data": {
            "text/plain": [
              "<bound method NDFrame.head of    Unnamed: 0     Name Gender      Mobile Address Marital_Status\n",
              "0           0  nethaji   Male  9876543210   India         Single>"
            ]
          },
          "metadata": {},
          "execution_count": 22
        }
      ],
      "source": [
        "import pandas as pd\n",
        "df1 = pd.read_csv(\"/content/new.csv\")\n",
        "df1.head"
      ]
    },
    {
      "cell_type": "code",
      "execution_count": null,
      "metadata": {
        "colab": {
          "base_uri": "https://localhost:8080/"
        },
        "id": "dzA839vggmce",
        "outputId": "18bedc8d-f00d-4761-e427-738be4d4dc14"
      },
      "outputs": [
        {
          "output_type": "stream",
          "name": "stdout",
          "text": [
            "Name, Appartment No., Street, District, Country, Mobile No., Gender, Marital Status\n",
            "Name, 0, Street, District, Country, 54655654635, Gender, Marital Status\n",
            "{'Name': ['nethaji'], 'Gender': ['Male'], 'Mobile': [9876543210], 'Address': ['India'], 'Marital_Status': ['Single']}Name, Appartment No., Street, District, Country, Mobile No., Gender, Marital Status\n",
            "Name, 0, Street, District, Country, 54655654635, Gender, Marital Status\n",
            "{'Name': ['nethaji'], 'Gender': ['Male'], 'Mobile': [9876543210], 'Address': ['India'], 'Marital_Status': ['Single']}\n"
          ]
        }
      ],
      "source": [
        "with open(\"form.txt\") as f:\n",
        "  read=f.read()\n",
        "print(read)"
      ]
    },
    {
      "cell_type": "code",
      "execution_count": null,
      "metadata": {
        "colab": {
          "base_uri": "https://localhost:8080/"
        },
        "id": "du2UEhEUldiJ",
        "outputId": "dc8cd476-261f-488f-d024-2e8804332534"
      },
      "outputs": [
        {
          "output_type": "stream",
          "name": "stdout",
          "text": [
            "Name, Appartment No., Street, District, Country, Mobile No., Gender, Marital Status\n",
            "Name, 0, Street, District, Country, 54655654635, Gender, Marital Status\n",
            "{'Name': ['nethaji'], 'Gender': ['Male'], 'Mobile': [9876543210], 'Address': ['India'], 'Marital_Status': ['Single']}Name, Appartment No., Street, District, Country, Mobile No., Gender, Marital Status\n",
            "Name, 0, Street, District, Country, 54655654635, Gender, Marital Status\n",
            "{'Name': ['nethaji'], 'Gender': ['Male'], 'Mobile': [9876543210], 'Address': ['India'], 'Marital_Status': ['Single']}\n"
          ]
        }
      ],
      "source": [
        "with open(\"form.txt\") as f:\n",
        "  read=f.read()\n",
        "print(read)\n",
        "\n",
        "\n",
        "#for x in read:\n",
        "#  print(x[])\n",
        "\n",
        "#1.filter outeput all names\n",
        "#2.search using name\n",
        "\n",
        "#1.create a calculator using colab UI"
      ]
    },
    {
      "cell_type": "code",
      "source": [
        "lines = []\n",
        "with open(\"/content/form.txt\") as f:\n",
        "    lines = f.readlines()\n",
        "#dictionary = lines[2]\n",
        "print(lines[-1]) "
      ],
      "metadata": {
        "colab": {
          "base_uri": "https://localhost:8080/"
        },
        "id": "zPBKTFq7JmKc",
        "outputId": "2953237b-b69f-4698-a2e9-b153ffd76c82"
      },
      "execution_count": null,
      "outputs": [
        {
          "output_type": "stream",
          "name": "stdout",
          "text": [
            "{'Name': ['nethaji'], 'Gender': ['Male'], 'Mobile': [9876543210], 'Address': ['India'], 'Marital_Status': ['Single']}\n"
          ]
        }
      ]
    },
    {
      "cell_type": "code",
      "source": [
        "#@title Swiss Bank\n",
        "\n",
        "#Name = 'Rangandh' #@param {type: 'string'}\n",
        "#Gender = \"Select\" #@param ['Select', 'Male', 'Female', 'Other']\n",
        "#Mobile =  9876543211#@param {type: 'integer'}\n",
        "#Address = 'India' #@param {type: 'string'}\n",
        "#Marital_Status = 'Little Baby' #@param ['Select', 'Single', 'Married']\n",
        "\n",
        "Name = 'Select' #@param {type: 'string'} ['Select', 'Nethaji', 'Rangandh', 'Yoga', 'bindu']\n",
        "Gender = \"Select\" #@param ['Select', 'Male', 'Male', 'Female','Female']\n",
        "Mobile =  9876543210 #@param {type: 'integer'}\n",
        "Address = 'India' #@param {type: 'string'}\n",
        "Marital_Status = 'Select' #@param ['Select', 'Single', 'Married','Little Baby','Married']\n",
        "\n",
        "output = {'Name': [Name], 'Gender': [Gender], 'Mobile': [Mobile], 'Address': [Address], 'Marital_Status': [Marital_Status]}\n",
        "print(output)\n",
        "\n",
        "with open('form.txt', r'a') as file:\n",
        "  file.write(str(output))"
      ],
      "metadata": {
        "colab": {
          "base_uri": "https://localhost:8080/"
        },
        "id": "pHRhv_z9Mzqb",
        "outputId": "15e142b9-a2fa-4042-f58a-0738b825aadf"
      },
      "execution_count": null,
      "outputs": [
        {
          "output_type": "stream",
          "name": "stdout",
          "text": [
            "{'Name': ['Select'], 'Gender': ['Select'], 'Mobile': [9876543210], 'Address': ['India'], 'Marital_Status': ['Select']}\n"
          ]
        }
      ]
    },
    {
      "cell_type": "code",
      "source": [
        "lines = []\n",
        "with open(\"/content/form.txt\") as f:\n",
        "    lines = f.readlines()\n",
        "#dictionary = lines[2]\n",
        "print(lines[-1])"
      ],
      "metadata": {
        "colab": {
          "base_uri": "https://localhost:8080/"
        },
        "id": "gYPCWLrxTBYW",
        "outputId": "4b321e90-f236-4a83-b2f1-76e73a03d657"
      },
      "execution_count": null,
      "outputs": [
        {
          "output_type": "stream",
          "name": "stdout",
          "text": [
            "{'Name': ['nethaji'], 'Gender': ['Male'], 'Mobile': [9876543210], 'Address': ['India'], 'Marital_Status': ['Single']}{'Name': ['ranganadh'], 'Gender': ['Male'], 'Mobile': [9876543211], 'Address': ['India'], 'Marital_Status': ['Married']}{'Name': ['ranganadh'], 'Gender': ['Male'], 'Mobile': [9876543211], 'Address': ['India'], 'Marital_Status': ['Married']}{'Name': ['ranganadh'], 'Gender': ['Select'], 'Mobile': [9876543211], 'Address': ['India'], 'Marital_Status': ['Married']}{'Name': ['Select'], 'Gender': ['Select'], 'Mobile': [9876543211], 'Address': ['India'], 'Marital_Status': ['Married']}{'Name': ['Select'], 'Gender': ['Select'], 'Mobile': [9876543210], 'Address': ['India'], 'Marital_Status': ['Married']}{'Name': ['Select'], 'Gender': ['Select'], 'Mobile': [9876543210], 'Address': ['India'], 'Marital_Status': ['Married']}{'Name': ['Select'], 'Gender': ['Select'], 'Mobile': [9876543210], 'Address': ['India'], 'Marital_Status': ['Select']}\n"
          ]
        }
      ]
    }
  ],
  "metadata": {
    "colab": {
      "collapsed_sections": [],
      "name": "simple_GUI_01-04-2022.ipynb",
      "provenance": []
    },
    "kernelspec": {
      "display_name": "Python 3",
      "name": "python3"
    },
    "language_info": {
      "name": "python"
    }
  },
  "nbformat": 4,
  "nbformat_minor": 0
}